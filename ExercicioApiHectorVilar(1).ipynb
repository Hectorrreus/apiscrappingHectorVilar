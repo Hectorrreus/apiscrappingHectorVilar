{
 "cells": [
  {
   "cell_type": "code",
   "execution_count": 2,
   "id": "2517d327-44a6-4501-a4e5-a21ff8547055",
   "metadata": {},
   "outputs": [],
   "source": [
    "import requests"
   ]
  },
  {
   "cell_type": "code",
   "execution_count": null,
   "id": "903b446d-0682-49a9-a63d-e5a52bd0d7af",
   "metadata": {},
   "outputs": [],
   "source": [
    "endpoint= 'https://pokeapi.co/api/v2/'\n",
    "\n",
    "response = requests.get(endpoint)\n",
    "response.json()"
   ]
  },
  {
   "cell_type": "code",
   "execution_count": 22,
   "id": "3d53dcf9-9f67-4aa9-87e6-e955b2d6bfd2",
   "metadata": {},
   "outputs": [
    {
     "data": {
      "text/plain": [
       "[{'slot': 1,\n",
       "  'type': {'name': 'fire', 'url': 'https://pokeapi.co/api/v2/type/10/'}},\n",
       " {'slot': 2,\n",
       "  'type': {'name': 'flying', 'url': 'https://pokeapi.co/api/v2/type/3/'}}]"
      ]
     },
     "execution_count": 22,
     "metadata": {},
     "output_type": "execute_result"
    }
   ],
   "source": [
    "#Utiliza la api para sacar los tipos de tu pokemon favorito\n",
    "response = requests.get(endpoint, params=\"pokemon/charizard\")\n",
    "response.json()['types']"
   ]
  },
  {
   "cell_type": "code",
   "execution_count": 29,
   "id": "e7cea6b6-7949-4d3c-b67d-bb7f5a1285dc",
   "metadata": {},
   "outputs": [
    {
     "data": {
      "text/plain": [
       "[{'name': 'poison', 'url': 'https://pokeapi.co/api/v2/type/4/'},\n",
       " {'name': 'steel', 'url': 'https://pokeapi.co/api/v2/type/9/'}]"
      ]
     },
     "execution_count": 29,
     "metadata": {},
     "output_type": "execute_result"
    }
   ],
   "source": [
    "#Saca los ataques muy efectivos contra el tipo hada\n",
    "response2 = requests.get('https://pokeapi.co/api/v2/type/18')\n",
    "response2.json()['damage_relations']['double_damage_from']"
   ]
  },
  {
   "cell_type": "code",
   "execution_count": 33,
   "id": "a1d69722-5a56-49f7-90f1-18594542e3b3",
   "metadata": {},
   "outputs": [
    {
     "data": {
      "text/plain": [
       "[{'is_hidden': False,\n",
       "  'pokemon': {'name': 'tyranitar',\n",
       "   'url': 'https://pokeapi.co/api/v2/pokemon/248/'},\n",
       "  'slot': 1},\n",
       " {'is_hidden': False,\n",
       "  'pokemon': {'name': 'hippopotas',\n",
       "   'url': 'https://pokeapi.co/api/v2/pokemon/449/'},\n",
       "  'slot': 1},\n",
       " {'is_hidden': False,\n",
       "  'pokemon': {'name': 'hippowdon',\n",
       "   'url': 'https://pokeapi.co/api/v2/pokemon/450/'},\n",
       "  'slot': 1},\n",
       " {'is_hidden': False,\n",
       "  'pokemon': {'name': 'gigalith',\n",
       "   'url': 'https://pokeapi.co/api/v2/pokemon/526/'},\n",
       "  'slot': 2},\n",
       " {'is_hidden': False,\n",
       "  'pokemon': {'name': 'tyranitar-mega',\n",
       "   'url': 'https://pokeapi.co/api/v2/pokemon/10049/'},\n",
       "  'slot': 1}]"
      ]
     },
     "execution_count": 33,
     "metadata": {},
     "output_type": "execute_result"
    }
   ],
   "source": [
    "#Saca los pokemons que puedan usar el ataque 86\n",
    "response3 = requests.get('https://pokeapi.co/api/v2/ability/45')\n",
    "response3.json()['pokemon']"
   ]
  },
  {
   "cell_type": "code",
   "execution_count": 37,
   "id": "974dbe63-ac3e-464f-befc-8083087387e2",
   "metadata": {},
   "outputs": [
    {
     "data": {
      "text/plain": [
       "'Chorro Arena'"
      ]
     },
     "execution_count": 37,
     "metadata": {},
     "output_type": "execute_result"
    }
   ],
   "source": [
    "#Busca el nombre en español del ataque anterior\n",
    "response3.json()['names'][5]['name']"
   ]
  },
  {
   "cell_type": "code",
   "execution_count": 41,
   "id": "9d23087a-7736-46d1-bb90-aa7659fa1260",
   "metadata": {},
   "outputs": [
    {
     "data": {
      "text/plain": [
       "{'count': 1118,\n",
       " 'next': 'https://pokeapi.co/api/v2/pokemon?offset=380&limit=40',\n",
       " 'previous': 'https://pokeapi.co/api/v2/pokemon?offset=300&limit=40',\n",
       " 'results': [{'name': 'corphish',\n",
       "   'url': 'https://pokeapi.co/api/v2/pokemon/341/'},\n",
       "  {'name': 'crawdaunt', 'url': 'https://pokeapi.co/api/v2/pokemon/342/'},\n",
       "  {'name': 'baltoy', 'url': 'https://pokeapi.co/api/v2/pokemon/343/'},\n",
       "  {'name': 'claydol', 'url': 'https://pokeapi.co/api/v2/pokemon/344/'},\n",
       "  {'name': 'lileep', 'url': 'https://pokeapi.co/api/v2/pokemon/345/'},\n",
       "  {'name': 'cradily', 'url': 'https://pokeapi.co/api/v2/pokemon/346/'},\n",
       "  {'name': 'anorith', 'url': 'https://pokeapi.co/api/v2/pokemon/347/'},\n",
       "  {'name': 'armaldo', 'url': 'https://pokeapi.co/api/v2/pokemon/348/'},\n",
       "  {'name': 'feebas', 'url': 'https://pokeapi.co/api/v2/pokemon/349/'},\n",
       "  {'name': 'milotic', 'url': 'https://pokeapi.co/api/v2/pokemon/350/'},\n",
       "  {'name': 'castform', 'url': 'https://pokeapi.co/api/v2/pokemon/351/'},\n",
       "  {'name': 'kecleon', 'url': 'https://pokeapi.co/api/v2/pokemon/352/'},\n",
       "  {'name': 'shuppet', 'url': 'https://pokeapi.co/api/v2/pokemon/353/'},\n",
       "  {'name': 'banette', 'url': 'https://pokeapi.co/api/v2/pokemon/354/'},\n",
       "  {'name': 'duskull', 'url': 'https://pokeapi.co/api/v2/pokemon/355/'},\n",
       "  {'name': 'dusclops', 'url': 'https://pokeapi.co/api/v2/pokemon/356/'},\n",
       "  {'name': 'tropius', 'url': 'https://pokeapi.co/api/v2/pokemon/357/'},\n",
       "  {'name': 'chimecho', 'url': 'https://pokeapi.co/api/v2/pokemon/358/'},\n",
       "  {'name': 'absol', 'url': 'https://pokeapi.co/api/v2/pokemon/359/'},\n",
       "  {'name': 'wynaut', 'url': 'https://pokeapi.co/api/v2/pokemon/360/'},\n",
       "  {'name': 'snorunt', 'url': 'https://pokeapi.co/api/v2/pokemon/361/'},\n",
       "  {'name': 'glalie', 'url': 'https://pokeapi.co/api/v2/pokemon/362/'},\n",
       "  {'name': 'spheal', 'url': 'https://pokeapi.co/api/v2/pokemon/363/'},\n",
       "  {'name': 'sealeo', 'url': 'https://pokeapi.co/api/v2/pokemon/364/'},\n",
       "  {'name': 'walrein', 'url': 'https://pokeapi.co/api/v2/pokemon/365/'},\n",
       "  {'name': 'clamperl', 'url': 'https://pokeapi.co/api/v2/pokemon/366/'},\n",
       "  {'name': 'huntail', 'url': 'https://pokeapi.co/api/v2/pokemon/367/'},\n",
       "  {'name': 'gorebyss', 'url': 'https://pokeapi.co/api/v2/pokemon/368/'},\n",
       "  {'name': 'relicanth', 'url': 'https://pokeapi.co/api/v2/pokemon/369/'},\n",
       "  {'name': 'luvdisc', 'url': 'https://pokeapi.co/api/v2/pokemon/370/'},\n",
       "  {'name': 'bagon', 'url': 'https://pokeapi.co/api/v2/pokemon/371/'},\n",
       "  {'name': 'shelgon', 'url': 'https://pokeapi.co/api/v2/pokemon/372/'},\n",
       "  {'name': 'salamence', 'url': 'https://pokeapi.co/api/v2/pokemon/373/'},\n",
       "  {'name': 'beldum', 'url': 'https://pokeapi.co/api/v2/pokemon/374/'},\n",
       "  {'name': 'metang', 'url': 'https://pokeapi.co/api/v2/pokemon/375/'},\n",
       "  {'name': 'metagross', 'url': 'https://pokeapi.co/api/v2/pokemon/376/'},\n",
       "  {'name': 'regirock', 'url': 'https://pokeapi.co/api/v2/pokemon/377/'},\n",
       "  {'name': 'regice', 'url': 'https://pokeapi.co/api/v2/pokemon/378/'},\n",
       "  {'name': 'registeel', 'url': 'https://pokeapi.co/api/v2/pokemon/379/'},\n",
       "  {'name': 'latias', 'url': 'https://pokeapi.co/api/v2/pokemon/380/'}]}"
      ]
     },
     "execution_count": 41,
     "metadata": {},
     "output_type": "execute_result"
    }
   ],
   "source": [
    "#Saca los nombres de 40 pokemons\n",
    "response3 = requests.get('https://pokeapi.co/api/v2/pokemon?limit=40&offset=340')\n",
    "response3.json()"
   ]
  }
 ],
 "metadata": {
  "kernelspec": {
   "display_name": "Python 3",
   "language": "python",
   "name": "python3"
  },
  "language_info": {
   "codemirror_mode": {
    "name": "ipython",
    "version": 3
   },
   "file_extension": ".py",
   "mimetype": "text/x-python",
   "name": "python",
   "nbconvert_exporter": "python",
   "pygments_lexer": "ipython3",
   "version": "3.8.8"
  }
 },
 "nbformat": 4,
 "nbformat_minor": 5
}
