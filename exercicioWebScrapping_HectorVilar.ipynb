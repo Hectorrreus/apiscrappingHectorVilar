{
 "cells": [
  {
   "cell_type": "code",
   "execution_count": null,
   "id": "a9ba256a-3a21-4eba-ae82-9992a458cf91",
   "metadata": {},
   "outputs": [],
   "source": [
    "import requests\n",
    "from bs4 import BeautifulSoup\n",
    "import pandas as pd"
   ]
  },
  {
   "cell_type": "code",
   "execution_count": null,
   "id": "c5f0eb31-7e63-4f12-98c1-c334ed856d6f",
   "metadata": {},
   "outputs": [],
   "source": [
    "url = 'https://www.shutupandtakemymoney.com/';\n",
    "page = requests.get(url)\n",
    "soup = BeautifulSoup(page.content, 'html.parser')\n",
    "#print(soup.prettify())"
   ]
  },
  {
   "cell_type": "code",
   "execution_count": 13,
   "id": "b34bd526-cf39-478e-9e9e-f408d2b97df3",
   "metadata": {},
   "outputs": [
    {
     "data": {
      "text/plain": [
       "'28'"
      ]
     },
     "execution_count": 13,
     "metadata": {},
     "output_type": "execute_result"
    }
   ],
   "source": [
    "#Saca el número de artículos que tiene la página\n",
    "soup.find(class_='pciwgas-cat-count').text #Uso esto porque coincide con que es el primero"
   ]
  },
  {
   "cell_type": "code",
   "execution_count": 14,
   "id": "a40f4ae8-0ba6-45e9-8690-7742eef3ae88",
   "metadata": {},
   "outputs": [
    {
     "name": "stdout",
     "output_type": "stream",
     "text": [
      "Oferta Dogs Pooping in Beautiful Places 2022 Calendar,        Precio $14.99\n",
      "Oferta Kawaii Knitted Thick ‘Animal Shaped’ Socks,        Precio $22.49\n",
      "Oferta Pokemon Dugtrio Meme Figurine,        Precio $34.95\n",
      "Oferta Super Mario Planters,        Precio $35.71\n",
      "Oferta Glow In The Dark Garden Pebbles,        Precio $17.99\n",
      "Oferta Barry Wood Key Holder,        Precio $25.00\n",
      "Oferta Cloud Lights,        Precio $57.00\n",
      "Oferta Merry Dickmas Inappropriate Christmas Card,        Precio $16.99\n",
      "Oferta Rorschach Mask With Real Moving Inkblots,        Precio $24.00\n",
      "Oferta Die Hard Christmas Ornament,        Precio $25.00\n",
      "Oferta Custom Book Ornaments,        Precio $13.99\n",
      "Oferta Endless Prank Christmas Holiday Card with Glitter,        Precio $11.99\n",
      "Oferta Please Don’t Do Coke In The Bathroom Poster,        Precio $12.99\n",
      "Oferta Butthole Hand Soap,        Precio $14.99\n",
      "Oferta The Big Lebowski Inspired Bathroom Poster 11×17,        Precio $20.00\n",
      "Oferta Live. Laugh. Hail Satan! Wood Sign,        Precio $11.99\n",
      "Oferta TireCockz Prank Valve Stem Caps Christmas Edition,        Precio $15.99\n",
      "Oferta Grow Old Inappropriate 3D Greeting Card,        Precio $31.99\n",
      "Oferta Marshall Rack Jack,        Precio $21.99\n",
      "Oferta Dumpling Light,        Precio $32.99\n",
      "Oferta Funny Mike Tyson Ugly Christmas Sweater,        Precio $39.99\n",
      "Oferta Harry Potter Cutting Board,        Precio $13.99\n",
      "Oferta This Meowy Christmas Card Is The Greatest Holiday Prank Gift Ever,        Precio $17.99\n",
      "Oferta I Hate Everyone… F You! Mug,        Precio $32.99\n",
      "Oferta Squid Game Ugly Sweater Christmas Sweatshirt,        Precio $17.99\n",
      "Oferta Hot Hagrid Funny Harry Potter Inspired Poster,        Precio $29.99\n",
      "Oferta This Jar Of Fucks Is So Offensive And I Actually Kinda Love It,        Precio $19.99\n",
      "Oferta Buddy The Elf Waving WiperTag,        Precio $32.99\n",
      "Oferta Barry Merry Dickmas Funny Ugly Sweater,        Precio $9.99\n",
      "Oferta F-Bomb Bath Bomb,        Precio $30.00\n",
      "Oferta Broken Glass Puzzle,        Precio $14.99\n",
      "Oferta Nature’s Cock Shots 2022 Calendar,        Precio $21.95\n",
      "Oferta Forrest Waving WiperTags,        Precio $36.00\n",
      "Oferta Starmie Tree Topper,        Precio $14.84\n",
      "Oferta Pokemon Origami,        Precio $23.99\n",
      "Oferta Hail Santa Solid Funny Christmas Wood Sign,        Precio $28.00\n",
      "Oferta Pepechu,        Precio $21.95\n",
      "Oferta Slimed WiperTags,        Precio $23.99\n",
      "Oferta Squid Game: Chocolate Dick,        Precio $3.80\n",
      "Oferta Prank Voice Activated Paper Towel Dispenser Stickers,        Precio $17.95\n",
      "Oferta Jason Ride A Long Perforated Decal,        Precio $11.50\n",
      "Oferta Offensive Pens,        Precio $55.00\n",
      "Oferta Bloody Horror Teddy Bears,        Precio $$1,471.89\n",
      "Oferta Freddy Krueger Wood Burner,        Precio $34.99\n",
      "Oferta Halloween Pumpkin Bulbasaur,        Precio $19.99\n",
      "Oferta Personalized Your Face In A Jar,        Precio $14.99\n",
      "Oferta Sunflower Skull Ornaments,        Precio $34.99\n",
      "Oferta Coffin Skeleton Candle,        Precio $4.97\n",
      "Oferta Squid Game Card,        Precio $20.00\n",
      "Oferta Snorlax Cosplay Digital Patterns,        Precio $31.49\n",
      "Oferta Piranha Plant Slippers,        Precio $22.99\n",
      "Oferta Hockey Masked Machete Killer Wipers,        Precio $24.99\n",
      "Oferta Horror Icons Halloween Shirt,        Precio $18.00\n",
      "Oferta Fire Pit Skulls,        Precio $13.98\n"
     ]
    }
   ],
   "source": [
    "#Saca las ofertas de la página con sus precios y \n",
    "listaOfertas = [];\n",
    "listaPrecios = [];\n",
    "for sopita in soup.find_all(class_='entry-title aflt-box-h'):\n",
    "    listaOfertas.append(sopita.text.strip())\n",
    "for sopa in soup.find_all(class_='aflt-price-cont'):\n",
    "    listaPrecios.append(sopa.text.strip())\n",
    "for i in range(len(listaOfertas)-1):\n",
    "    print(f'Oferta {listaOfertas[i]},        Precio {listaPrecios[i]}')\n",
    "    "
   ]
  },
  {
   "cell_type": "code",
   "execution_count": 15,
   "id": "807b3f43-7f50-484b-b387-bcb15997c6bd",
   "metadata": {},
   "outputs": [
    {
     "data": {
      "text/plain": [
       "'https://www.shutupandtakemymoney.com/wp-content/uploads/2021/10/Pepechu.gif'"
      ]
     },
     "execution_count": 15,
     "metadata": {},
     "output_type": "execute_result"
    }
   ],
   "source": [
    "#Saca la imagen del artículo que más te llame la atención\n",
    "soup.find(class_='wp-image-50314 aligncenter').get('src')"
   ]
  },
  {
   "cell_type": "code",
   "execution_count": 23,
   "id": "66ae2309-b9b0-4e40-afe5-5a02ba78667e",
   "metadata": {},
   "outputs": [
    {
     "name": "stdout",
     "output_type": "stream",
     "text": [
      "Hay 9755 elementos en total\n"
     ]
    }
   ],
   "source": [
    "#Cuenta los elementos totales de la página(la suma delos articles, beers...)\n",
    "elementos_totales=0\n",
    "for sopita in soup.find_all(class_='pciwgas-cat-count'):\n",
    "    elementos_totales+=int(sopita.text)\n",
    "print('Hay {} elementos en total'.format(elementos_totales))"
   ]
  },
  {
   "cell_type": "code",
   "execution_count": 31,
   "id": "997319a3-eb0b-4267-b9ce-e02e63c52c86",
   "metadata": {},
   "outputs": [
    {
     "name": "stdout",
     "output_type": "stream",
     "text": [
      "Altura: 800\n",
      "Tamaños: (max-width: 800px) 100vw, 800px\n",
      "Srset: https://www.shutupandtakemymoney.com/wp-content/uploads/2021/09/1.jpg 800w, https://www.shutupandtakemymoney.com/wp-content/uploads/2021/09/1-150x150.jpg 150w, https://www.shutupandtakemymoney.com/wp-content/uploads/2021/09/1-300x300.jpg 300w, https://www.shutupandtakemymoney.com/wp-content/uploads/2021/09/1-768x768.jpg 768w, https://www.shutupandtakemymoney.com/wp-content/uploads/2021/09/1-36x36.jpg 36w, https://www.shutupandtakemymoney.com/wp-content/uploads/2021/09/1-115x115.jpg 115w\n"
     ]
    }
   ],
   "source": [
    "#Saca la información de la imagen del calendario de los perros cagando\n",
    "print('Altura: {}'.format(soup.find(class_='size-full wp-image-50165 aligncenter').get('height')))\n",
    "print('Tamaños: {}'.format(soup.find(class_='size-full wp-image-50165 aligncenter').get('sizes')))\n",
    "print('Srset: {}'.format(soup.find(class_='size-full wp-image-50165 aligncenter').get('srcset')))"
   ]
  }
 ],
 "metadata": {
  "kernelspec": {
   "display_name": "Python 3 (ipykernel)",
   "language": "python",
   "name": "python3"
  },
  "language_info": {
   "codemirror_mode": {
    "name": "ipython",
    "version": 3
   },
   "file_extension": ".py",
   "mimetype": "text/x-python",
   "name": "python",
   "nbconvert_exporter": "python",
   "pygments_lexer": "ipython3",
   "version": "3.9.7"
  }
 },
 "nbformat": 4,
 "nbformat_minor": 5
}
