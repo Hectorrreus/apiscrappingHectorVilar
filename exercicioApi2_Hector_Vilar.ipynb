{
 "cells": [
  {
   "cell_type": "code",
   "execution_count": 3,
   "id": "8605d7dd-e798-4eaa-8e0a-ce0a16646555",
   "metadata": {},
   "outputs": [],
   "source": [
    "import requests"
   ]
  },
  {
   "cell_type": "code",
   "execution_count": 4,
   "id": "8bda73a4-6b8f-470b-9c7f-d8b738877c74",
   "metadata": {},
   "outputs": [],
   "source": [
    "#https://dashboard.api-football.com/soccer/tester\n",
    "\n",
    "endpoint = 'https://v3.football.api-sports.io/'\n",
    "rapid_key = {'x-rapidapi-host':'api-football-v1.p.rapidapi.com',\n",
    "             'x-rapidapi-key':'0fe4ab34227d95856c73ee39088551bb'}"
   ]
  },
  {
   "cell_type": "code",
   "execution_count": 5,
   "id": "4e6bc247-27ee-437b-93d8-90c38f6fda60",
   "metadata": {},
   "outputs": [
    {
     "name": "stdout",
     "output_type": "stream",
     "text": [
      "Inicio temporada 2021: 2021-08-13\n",
      "Fin temporada 2021: 2022-05-22\n"
     ]
    }
   ],
   "source": [
    "#Busca el inicio y el final de la premier league esta temporada\n",
    "url='/leagues/'\n",
    "payload={'id' : '39', 'season' : '2021'}\n",
    "response = requests.get(endpoint+url, params=payload, headers=rapid_key)\n",
    "print('Inicio temporada 2021: {}'.format(response.json()['response'][0]['seasons'][0]['start']))\n",
    "print('Fin temporada 2021: {}'.format(response.json()['response'][0]['seasons'][0]['end']))"
   ]
  },
  {
   "cell_type": "code",
   "execution_count": 6,
   "id": "35c2ddff-2a43-4ae1-8e67-b7bd6dd11bd6",
   "metadata": {},
   "outputs": [
    {
     "data": {
      "text/plain": [
       "{'home': 10, 'away': 9, 'total': 19}"
      ]
     },
     "execution_count": 6,
     "metadata": {},
     "output_type": "execute_result"
    }
   ],
   "source": [
    "#Saca los partidos ganados en casa y fuera de casa del manchester united en la temporada del 2018\n",
    "url='/teams/statistics'\n",
    "payload={'league' : '39', 'season' : '2018', 'team' : '33'}\n",
    "response = requests.get(endpoint+url, params=payload, headers=rapid_key)\n",
    "response.json()['response']['fixtures']['wins']"
   ]
  },
  {
   "cell_type": "code",
   "execution_count": 7,
   "id": "ae8c2b2b-bd62-436f-a501-aa708cd06eae",
   "metadata": {},
   "outputs": [
    {
     "data": {
      "text/plain": [
       "{'total': 8, 'conceded': 0, 'assists': 3, 'saves': None}"
      ]
     },
     "execution_count": 7,
     "metadata": {},
     "output_type": "execute_result"
    }
   ],
   "source": [
    "#Busca los goles que lleva Cristiano Ronaldo en la temporada actual\n",
    "url='players'\n",
    "payload={'league' : '39', 'season' : '2021', 'team' : '33', 'id' : '874'} #Sólo son necesarios season y id\n",
    "response = requests.get(endpoint+url, params=payload, headers=rapid_key)\n",
    "response.json()['response'][0]['statistics'][0]['goals']"
   ]
  },
  {
   "cell_type": "code",
   "execution_count": null,
   "id": "fd4c0588-1578-489b-81fa-963c4c05d9b0",
   "metadata": {},
   "outputs": [],
   "source": [
    "#Lista los jugadores lesionados del liverpool\n",
    "url='injuries'\n",
    "payload={'league' : '39', 'season' : '2021', 'team' : '39',} #Sólo son necesarios season y id\n",
    "response = requests.get(endpoint+url, params=payload, headers=rapid_key)\n",
    "for player in response.json()['response']:\n",
    "    print(player)"
   ]
  },
  {
   "cell_type": "code",
   "execution_count": 24,
   "id": "da396c33-f1cc-4b94-a047-cbe2a188249e",
   "metadata": {},
   "outputs": [
    {
     "data": {
      "text/plain": [
       "{'home': '5-0', 'away': '0-5'}"
      ]
     },
     "execution_count": 24,
     "metadata": {},
     "output_type": "execute_result"
    }
   ],
   "source": [
    "#Busca la mayor victoria del PSG en champions la temporada pasada\n",
    "url='teams/statistics'\n",
    "payload={'league' : '2', 'season' : '2019', 'team' : '85',} #Sólo son necesarios season y id\n",
    "response = requests.get(endpoint+url, params=payload, headers=rapid_key)\n",
    "response.json()['response']['biggest']['wins']"
   ]
  }
 ],
 "metadata": {
  "kernelspec": {
   "display_name": "Python 3 (ipykernel)",
   "language": "python",
   "name": "python3"
  },
  "language_info": {
   "codemirror_mode": {
    "name": "ipython",
    "version": 3
   },
   "file_extension": ".py",
   "mimetype": "text/x-python",
   "name": "python",
   "nbconvert_exporter": "python",
   "pygments_lexer": "ipython3",
   "version": "3.9.7"
  }
 },
 "nbformat": 4,
 "nbformat_minor": 5
}
